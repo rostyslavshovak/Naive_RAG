{
 "cells": [
  {
   "cell_type": "code",
   "id": "f1d6b57b460a0446",
   "metadata": {
    "collapsed": true,
    "ExecuteTime": {
     "end_time": "2024-12-10T23:47:53.392890Z",
     "start_time": "2024-12-10T23:47:53.337617Z"
    }
   },
   "source": [
    "import os\n",
    "import pdfplumber\n",
    "from langchain.docstore.document import Document\n",
    "from langchain.text_splitter import RecursiveCharacterTextSplitter\n",
    "from langchain.embeddings import HuggingFaceEmbeddings\n",
    "from langchain.prompts import PromptTemplate\n",
    "from langchain.chains import RetrievalQA\n",
    "from langchain.llms import HuggingFacePipeline\n",
    "from transformers import AutoModelForSeq2SeqLM, AutoTokenizer, pipeline\n",
    "from langchain.vectorstores import FAISS\n",
    "import logging\n",
    "\n",
    "logging.basicConfig(level=logging.INFO)\n",
    "logger = logging.getLogger(__name__)"
   ],
   "outputs": [],
   "execution_count": 5
  },
  {
   "metadata": {
    "ExecuteTime": {
     "end_time": "2024-12-10T23:47:21.138131Z",
     "start_time": "2024-12-10T23:47:06.020349Z"
    }
   },
   "cell_type": "code",
   "source": [
    "#Function to Extract Tables as Text\n",
    "#Extract tables from a pdf_page object and convert them into a readable text format\n",
    "def extract_tables_as_text(pdf_page):\n",
    "    tables = pdf_page.extract_tables()\n",
    "    table_texts = []\n",
    "    for table in tables:\n",
    "        #Each table is a list of rows, where each row is a list of cells.\n",
    "        row_strings = []\n",
    "        for row in table:\n",
    "            #Handle None values and join cells with commas\n",
    "            cleaned_row = [cell if cell is not None else \"\" for cell in row]\n",
    "            row_str = \", \".join(cleaned_row)\n",
    "            row_strings.append(row_str)\n",
    "        #Combine all rows into a single chunk of text.\n",
    "        combined_table_text = \"\\n\".join(row_strings)\n",
    "        table_texts.append(combined_table_text)\n",
    "    return \"\\n\\n\".join(table_texts)\n",
    "\n",
    "pdf_path = \"C:/Users/Admin/Desktop/ammazon_annual.pdf\"\n",
    "documents = []\n",
    "with pdfplumber.open(pdf_path) as pdf:\n",
    "    for page in pdf.pages:\n",
    "        text = page.extract_text() or \"\"\n",
    "        table_text = extract_tables_as_text(page)\n",
    "        if table_text.strip():\n",
    "            #Add some delimiter or header to clearly separate table data\n",
    "            text += \"\\n\\n[Table Data]\\n\" + table_text\n",
    "\n",
    "        if text.strip():\n",
    "            documents.append(Document(page_content=text))"
   ],
   "id": "83d6c04a7efcf66c",
   "outputs": [],
   "execution_count": 2
  },
  {
   "metadata": {
    "ExecuteTime": {
     "end_time": "2024-12-10T23:56:00.326413Z",
     "start_time": "2024-12-10T23:56:00.296582Z"
    }
   },
   "cell_type": "code",
   "source": [
    "text_splitter = RecursiveCharacterTextSplitter(\n",
    "    chunk_size=400,\n",
    "    chunk_overlap=50\n",
    ")\n",
    "docs = text_splitter.split_documents(documents)\n",
    "logger.info(f\"Split documents into {len(docs)} chunks.\")"
   ],
   "id": "1a80103822fd85d2",
   "outputs": [
    {
     "name": "stderr",
     "output_type": "stream",
     "text": [
      "INFO:__main__:Split documents into 952 chunks.\n"
     ]
    }
   ],
   "execution_count": 30
  },
  {
   "metadata": {
    "ExecuteTime": {
     "end_time": "2024-12-10T23:56:18.833733Z",
     "start_time": "2024-12-10T23:56:01.501753Z"
    }
   },
   "cell_type": "code",
   "source": [
    "embedding_model_name = \"sentence-transformers/all-MiniLM-L6-v2\"\n",
    "embeddings = HuggingFaceEmbeddings(model_name=embedding_model_name)\n",
    "logger.info(f\"Loaded HuggingFace Embeddings model: {embedding_model_name}\")\n",
    "\n",
    "vectorstore = FAISS.from_documents(docs, embeddings)\n",
    "retriever = vectorstore.as_retriever(search_kwargs={\"k\": 5})"
   ],
   "id": "8c76731addb965f9",
   "outputs": [
    {
     "name": "stderr",
     "output_type": "stream",
     "text": [
      "INFO:sentence_transformers.SentenceTransformer:Use pytorch device_name: cpu\n",
      "INFO:sentence_transformers.SentenceTransformer:Load pretrained SentenceTransformer: sentence-transformers/all-MiniLM-L6-v2\n",
      "INFO:__main__:Loaded HuggingFace Embeddings model: sentence-transformers/all-MiniLM-L6-v2\n"
     ]
    }
   ],
   "execution_count": 31
  },
  {
   "metadata": {
    "ExecuteTime": {
     "end_time": "2024-12-10T23:57:25.834166Z",
     "start_time": "2024-12-10T23:57:24.458169Z"
    }
   },
   "cell_type": "code",
   "source": [
    "model_name = \"google/flan-t5-base\"\n",
    "tokenizer = AutoTokenizer.from_pretrained(model_name)\n",
    "model = AutoModelForSeq2SeqLM.from_pretrained(model_name)\n",
    "\n",
    "#truncation to avoid length errors\n",
    "llm_pipeline = pipeline(\n",
    "    \"text2text-generation\", \n",
    "    model=model, \n",
    "    tokenizer=tokenizer,\n",
    "    max_length=512,\n",
    "    truncation=True,\n",
    "    max_new_tokens=200,\n",
    "    min_length=20,\n",
    "    do_sample=True,\n",
    "    # temperature=0.7,\n",
    "    # top_p=0.9,\n",
    "    # top_k=200\n",
    ")\n",
    "llm = HuggingFacePipeline(pipeline=llm_pipeline)\n",
    "\n",
    "\n",
    "\n",
    "prompt_template = \"\"\"You are a helpful assistant. Using the following context, write a complete, well-structured sentence (or short paragraph) that answers the question in detail. If there is relevant information in the context, incorporate it into your answer. Be direct, accurate, and use a friendly tone.\n",
    "\n",
    "Context:\n",
    "{context}\n",
    "\n",
    "Question: {question}\n",
    "Please provide a detailed answer:\n",
    "\"\"\"\n",
    "\n",
    "prompt = PromptTemplate(\n",
    "    template=prompt_template, \n",
    "    input_variables=[\"context\", \"question\"]\n",
    ")\n",
    "\n",
    "qa_chain = RetrievalQA.from_chain_type(\n",
    "    llm=llm,\n",
    "    chain_type=\"stuff\",\n",
    "    retriever=retriever,\n",
    "    chain_type_kwargs={\"prompt\": prompt}\n",
    ")"
   ],
   "id": "8a80888cc0f4ef19",
   "outputs": [
    {
     "name": "stderr",
     "output_type": "stream",
     "text": [
      "Device set to use cpu\n"
     ]
    }
   ],
   "execution_count": 35
  },
  {
   "metadata": {
    "ExecuteTime": {
     "end_time": "2024-12-10T23:58:42.261461Z",
     "start_time": "2024-12-10T23:58:39.952922Z"
    }
   },
   "cell_type": "code",
   "source": [
    "question = \"What position in the company does Jeffrey P. Bezos takes and since what time?\"\n",
    "response = qa_chain.invoke({\"query\": question})\n",
    "\n",
    "#dict 'query' and 'result'\n",
    "print(\"Answer:\", response[\"result\"])"
   ],
   "id": "fb0e3a3385190bdd",
   "outputs": [
    {
     "name": "stderr",
     "output_type": "stream",
     "text": [
      "Both `max_new_tokens` (=200) and `max_length`(=512) seem to have been set. `max_new_tokens` will take precedence. Please refer to the documentation for more information. (https://huggingface.co/docs/transformers/main/en/main_classes/text_generation)\n"
     ]
    },
    {
     "name": "stdout",
     "output_type": "stream",
     "text": [
      "Answer: President, Chief Executive Officer, and Chairman of the Board. Mr. Bezos has been Chairman of the Board of Amazon.com since founding it in 1994 and Chief Executive Officer since May 1996.\n"
     ]
    }
   ],
   "execution_count": 38
  },
  {
   "metadata": {
    "ExecuteTime": {
     "end_time": "2024-12-10T23:57:32.020265Z",
     "start_time": "2024-12-10T23:57:29.906697Z"
    }
   },
   "cell_type": "code",
   "source": [
    "# question = input(\"Enter your question\")\n",
    "question = \"What position in the company does Jeffrey P. Bezos hold and since when?\"\n",
    "\n",
    "#retrieve documents to show retrieved chunks\n",
    "retrieved_docs = retriever.get_relevant_documents(question)\n",
    "retrieved_chunks = [doc.page_content for doc in retrieved_docs]\n",
    "\n",
    "response = qa_chain.invoke({\"query\": question})\n",
    "answer = response[\"result\"]\n",
    "\n",
    "print(\"Question:\", question)\n",
    "print(\"Answer:\", answer)\n",
    "print(\"\\nRetrieved Chunks:\")\n",
    "for i, chunk in enumerate(retrieved_chunks, start=1):\n",
    "    print(f\"Chunk {i}:\\n{chunk}\\n{'-' * 40}\")"
   ],
   "id": "initial_id",
   "outputs": [
    {
     "name": "stderr",
     "output_type": "stream",
     "text": [
      "Both `max_new_tokens` (=200) and `max_length`(=512) seem to have been set. `max_new_tokens` will take precedence. Please refer to the documentation for more information. (https://huggingface.co/docs/transformers/main/en/main_classes/text_generation)\n"
     ]
    },
    {
     "name": "stdout",
     "output_type": "stream",
     "text": [
      "Question: What position in the company does Jeffrey P. Bezos hold and since when?\n",
      "Answer: President, Chief Executive Officer, and Chair of the Board. Welch has been Chairman of the Board of Amazon.com since 1994 and Senior Executive Officer from May 1996.\n",
      "\n",
      "Retrieved Chunks:\n",
      "Chunk 1:\n",
      "Board of Directors\n",
      "Name Age Position\n",
      "Jeffrey P. Bezos 56 President, Chief Executive Officer, and Chairman of the Board\n",
      "Rosalind G. Brewer 57 Group President, Americas and Chief Operating Officer, Starbucks Corporation\n",
      "Jamie S. Gorelick 69 Partner, Wilmer Cutler Pickering Hale and Dorr LLP\n",
      "Daniel P. Huttenlocher 61 Dean, MIT Schwarzman College of Computing\n",
      "----------------------------------------\n",
      "Chunk 2:\n",
      "and Chairman of the Board\n",
      "Pursuant to the requirements of the Securities Exchange Act of 1934, this Report has been signed below by the following persons on behalf of the registrant\n",
      "and in the capacities indicated as of January 30, 2020.\n",
      "Signature Title\n",
      "/s/ Jeffrey P. Bezos\n",
      "Jeffrey P. Bezos Chairman of the Board, President, and Chief Executive Officer (Principal Executive\n",
      "Officer)\n",
      "----------------------------------------\n",
      "Chunk 3:\n",
      "Jeffrey P. Bezos. Mr. Bezos has been Chairman of the Board of Amazon.com since founding it in 1994 and Chief Executive Officer since May 1996.\n",
      "Mr. Bezos served as President of the Company from founding until June 1999 and again from October 2000 to the present.\n",
      "Jeffrey M. Blackburn. Mr. Blackburn has served as Senior Vice President, Business Development, since April 2006.\n",
      "----------------------------------------\n",
      "Chunk 4:\n",
      "(2) The information contained in the Report fairly presents, in all material respects, the financial condition and results of operations of the Company.\n",
      "A signed original of this written statement has been provided to the Company and will be retained by the Company and furnished to the SEC or its staff upon\n",
      "request.\n",
      "/s/ Jeffrey P. Bezos\n",
      "Jeffrey P. Bezos\n",
      "Chairman and Chief Executive Officer\n",
      "----------------------------------------\n",
      "Chunk 5:\n",
      "[Table Data]\n",
      "Jeffrey P. Bezos, , 56, , President, Chief Executive Officer, and Chairman of the Board\n",
      "\n",
      "Andrew R. Jassy, , 52, , CEO Amazon Web Services\n",
      "\n",
      "Shelley L. Reynolds, , 55, , Vice President, Worldwide Controller, and Principal Accounting Officer\n",
      "\n",
      "David A. Zapolsky, , 56, , Senior Vice President, General Counsel, and Secretary\n",
      "----------------------------------------\n"
     ]
    }
   ],
   "execution_count": 36
  }
 ],
 "metadata": {
  "kernelspec": {
   "display_name": "RAG",
   "language": "python",
   "name": "rag"
  },
  "language_info": {
   "codemirror_mode": {
    "name": "ipython",
    "version": 2
   },
   "file_extension": ".py",
   "mimetype": "text/x-python",
   "name": "python",
   "nbconvert_exporter": "python",
   "pygments_lexer": "ipython2",
   "version": "2.7.6"
  }
 },
 "nbformat": 4,
 "nbformat_minor": 5
}
