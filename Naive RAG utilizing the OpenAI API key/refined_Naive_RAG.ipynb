{
 "cells": [
  {
   "metadata": {
    "ExecuteTime": {
     "end_time": "2024-12-15T19:41:05.654066Z",
     "start_time": "2024-12-15T19:41:05.556872Z"
    }
   },
   "cell_type": "code",
   "source": [
    "import os\n",
    "import getpass\n",
    "import logging\n",
    "import pdfplumber\n",
    "from langchain.docstore.document import Document\n",
    "from langchain.text_splitter import RecursiveCharacterTextSplitter\n",
    "from langchain.embeddings import HuggingFaceEmbeddings\n",
    "from langchain.prompts import PromptTemplate\n",
    "from langchain.chains import RetrievalQA\n",
    "from langchain.chat_models import ChatOpenAI\n",
    "from langchain.vectorstores import FAISS\n",
    "\n",
    "logging.basicConfig(level=logging.INFO)\n",
    "logger = logging.getLogger(__name__)"
   ],
   "id": "8cf08e7d8eff8506",
   "outputs": [],
   "execution_count": 10
  },
  {
   "metadata": {
    "ExecuteTime": {
     "end_time": "2024-12-15T19:15:14.671490Z",
     "start_time": "2024-12-15T19:14:58.269142Z"
    }
   },
   "cell_type": "code",
   "source": [
    "#Function to Extract Tables as Text\n",
    "#Extract tables from a pdf_page object and convert them into a readable text format\n",
    "def extract_tables_as_text(pdf_page):\n",
    "    tables = pdf_page.extract_tables()\n",
    "    table_texts = []\n",
    "    for table in tables:\n",
    "        # Each table is a list of rows, where each row is a list of cells.\n",
    "        row_strings = []\n",
    "        for row in table:\n",
    "            #Handle None values and join cells with commas\n",
    "            cleaned_row = [cell if cell is not None else \"\" for cell in row]\n",
    "            row_str = \", \".join(cleaned_row)\n",
    "            row_strings.append(row_str)\n",
    "        combined_table_text = \"\\n\".join(row_strings)\n",
    "        table_texts.append(combined_table_text)\n",
    "    return \"\\n\\n\".join(table_texts)\n",
    "\n",
    "\n",
    "pdf_path = \"./ammazon_annual.pdf\"\n",
    "documents = []\n",
    "with pdfplumber.open(pdf_path) as pdf:\n",
    "    for page in pdf.pages:\n",
    "        text = page.extract_text() or \"\"\n",
    "        table_text = extract_tables_as_text(page)\n",
    "        \n",
    "        if table_text.strip():\n",
    "            #header to separate tables from main text\n",
    "            text += \"\\n\\n[Table Data]\\n\" + table_text\n",
    "\n",
    "        if text.strip():\n",
    "            documents.append(Document(page_content=text))"
   ],
   "id": "16db9e80d393ed7d",
   "outputs": [],
   "execution_count": 2
  },
  {
   "metadata": {
    "ExecuteTime": {
     "end_time": "2024-12-15T19:15:23.190891Z",
     "start_time": "2024-12-15T19:15:23.166326Z"
    }
   },
   "cell_type": "code",
   "source": [
    "# Smaller chunks = more fine-grained retrieval but might lose context\n",
    "# Larger chunks = more context but risk token overload in prompt\n",
    "text_splitter = RecursiveCharacterTextSplitter(\n",
    "    chunk_size=400,\n",
    "    chunk_overlap=50\n",
    ")\n",
    "docs = text_splitter.split_documents(documents)\n",
    "logger.info(f\"Split documents into {len(docs)} chunks.\")"
   ],
   "id": "a2ad255716e3853b",
   "outputs": [
    {
     "name": "stderr",
     "output_type": "stream",
     "text": [
      "INFO:__main__:Split documents into 952 chunks.\n"
     ]
    }
   ],
   "execution_count": 3
  },
  {
   "metadata": {
    "ExecuteTime": {
     "end_time": "2024-12-15T20:14:52.610958Z",
     "start_time": "2024-12-15T20:14:36.707624Z"
    }
   },
   "cell_type": "code",
   "source": [
    "#Embedding and Vector Store setup\n",
    "\n",
    "embedding_model_name = \"sentence-transformers/all-MiniLM-L6-v2\"\n",
    "embeddings = HuggingFaceEmbeddings(model_name=embedding_model_name)\n",
    "logger.info(f\"Loaded HuggingFace Embeddings model: {embedding_model_name}\")\n",
    "\n",
    "vectorstore = FAISS.from_documents(docs, embeddings)\n",
    "retriever = vectorstore.as_retriever(search_kwargs={\"k\": 6})  "
   ],
   "id": "558b75ffb9f1e20a",
   "outputs": [
    {
     "name": "stderr",
     "output_type": "stream",
     "text": [
      "INFO:sentence_transformers.SentenceTransformer:Use pytorch device_name: cpu\n",
      "INFO:sentence_transformers.SentenceTransformer:Load pretrained SentenceTransformer: sentence-transformers/all-MiniLM-L6-v2\n",
      "INFO:__main__:Loaded HuggingFace Embeddings model: sentence-transformers/all-MiniLM-L6-v2\n"
     ]
    }
   ],
   "execution_count": 26
  },
  {
   "metadata": {
    "ExecuteTime": {
     "end_time": "2024-12-15T19:49:33.026819Z",
     "start_time": "2024-12-15T19:49:20.339259Z"
    }
   },
   "cell_type": "code",
   "source": [
    "OPENAI_API_KEY = getpass.getpass(\"Enter your OpenAI API key: \")\n",
    "os.environ[\"OPENAI_API_KEY\"] = OPENAI_API_KEY\n",
    "\n",
    "llm = ChatOpenAI(\n",
    "    model_name=\"gpt-3.5-turbo\", \n",
    "    temperature=0.7,\n",
    "    max_tokens=500,  \n",
    "    openai_api_key=OPENAI_API_KEY\n",
    ")\n",
    "\n",
    "prompt_template = \"\"\"You are a helpful assistant. Using the provided context, write a complete, well-structured, and detailed answer to the question. Incorporate any relevant information from the context into your answer. Be direct, accurate, and friendly in tone. Provide dates, positions, and context as necessary.\n",
    "\n",
    "Context:\n",
    "{context}\n",
    "\n",
    "Question: {question}\n",
    "\n",
    "Please provide a detailed and well-structured answer:\n",
    "\"\"\"\n",
    "\n",
    "prompt = PromptTemplate(\n",
    "    template=prompt_template,\n",
    "    input_variables=[\"context\", \"question\"]\n",
    ")\n",
    "\n",
    "qa_chain = RetrievalQA.from_chain_type(\n",
    "    llm=llm,\n",
    "    chain_type=\"stuff\",  \n",
    "    retriever=retriever,\n",
    "    chain_type_kwargs={\"prompt\": prompt}\n",
    ")"
   ],
   "id": "c15435aed66a3c9e",
   "outputs": [],
   "execution_count": 18
  },
  {
   "metadata": {
    "ExecuteTime": {
     "end_time": "2024-12-15T20:14:22.672200Z",
     "start_time": "2024-12-15T20:14:21.976429Z"
    }
   },
   "cell_type": "code",
   "source": [
    "test_response = llm.predict(\"Hello, how are you?\")\n",
    "print(\"Test Response:\", test_response)"
   ],
   "id": "bbe899757407efd3",
   "outputs": [
    {
     "name": "stderr",
     "output_type": "stream",
     "text": [
      "INFO:httpx:HTTP Request: POST https://api.openai.com/v1/chat/completions \"HTTP/1.1 200 OK\"\n"
     ]
    },
    {
     "name": "stdout",
     "output_type": "stream",
     "text": [
      "Test Response: Hello! I'm just a computer program, so I don't have feelings, but I'm here to help you. How can I assist you today?\n"
     ]
    }
   ],
   "execution_count": 25
  },
  {
   "metadata": {
    "ExecuteTime": {
     "end_time": "2024-12-15T20:00:58.146009Z",
     "start_time": "2024-12-15T20:00:56.827990Z"
    }
   },
   "cell_type": "code",
   "source": [
    "question = \"What position in the company does Jeffrey P. Bezos takes and since what time?\"\n",
    "response = qa_chain.invoke({\"query\": question})\n",
    "\n",
    "#dict 'query' and 'result'\n",
    "print(\"Answer:\", response[\"result\"])"
   ],
   "id": "616961fb4cf55e15",
   "outputs": [
    {
     "name": "stderr",
     "output_type": "stream",
     "text": [
      "INFO:httpx:HTTP Request: POST https://api.openai.com/v1/chat/completions \"HTTP/1.1 200 OK\"\n"
     ]
    },
    {
     "name": "stdout",
     "output_type": "stream",
     "text": [
      "Answer: Jeffrey P. Bezos holds the position of President, Chief Executive Officer, and Chairman of the Board at Amazon.com. He has been the Chairman of the Board since founding the company in 1994 and took on the role of Chief Executive Officer in May 1996. Mr. Bezos also served as President of the Company from its founding until June 1999, and then again from October 2000 to the present. As of January 30, 2020, Jeffrey P. Bezos continues to hold the positions of Chairman of the Board, President, and Chief Executive Officer at Amazon.com.\n"
     ]
    }
   ],
   "execution_count": 23
  },
  {
   "metadata": {},
   "cell_type": "markdown",
   "source": "Print the question and show retrieved documments",
   "id": "f994b99fc1e39a97"
  },
  {
   "metadata": {
    "ExecuteTime": {
     "end_time": "2024-12-15T19:50:21.025340Z",
     "start_time": "2024-12-15T19:50:21.009954Z"
    }
   },
   "cell_type": "code",
   "source": [
    "# question = input(\"Enter your question\")\n",
    "question = \"What position in the company does Jeffrey P. Bezos hold and since when?\"\n",
    "\n",
    "#retrieve documents to show retrieved chunks\n",
    "retrieved_docs = retriever.get_relevant_documents(question)\n",
    "retrieved_chunks = [doc.page_content for doc in retrieved_docs]\n",
    "\n",
    "#Invoke the chain to get the final answer\n",
    "response = qa_chain.invoke({\"query\": question})\n",
    "answer = response[\"result\"]\n",
    "\n",
    "print(\"Question:\", question)\n",
    "print(\"Answer:\", answer)\n",
    "print(\"\\nRetrieved Chunks:\")\n",
    "for i, chunk in enumerate(retrieved_chunks, start=1):\n",
    "    print(f\"Chunk {i}:\\n{chunk}\\n{'-' * 40}\")"
   ],
   "id": "4d18274cef817377",
   "outputs": [
    {
     "name": "stdout",
     "output_type": "stream",
     "text": [
      "Question: What position in the company does Jeffrey P. Bezos hold and since when?\n",
      "Answer: Jeffrey P. Bezos holds the position of President, Chief Executive Officer, and Chairman of the Board at Amazon.com. He has been Chairman of the Board since founding the company in 1994 and has served as Chief Executive Officer since May 1996. Additionally, Mr. Bezos has held the title of President from the company's inception until June 1999 and resumed the role in October 2000, holding it to the present day. Therefore, Jeffrey P. Bezos has been serving in his current positions at Amazon.com since May 1996.\n",
      "\n",
      "Retrieved Chunks:\n",
      "Chunk 1:\n",
      "Board of Directors\n",
      "Name Age Position\n",
      "Jeffrey P. Bezos 56 President, Chief Executive Officer, and Chairman of the Board\n",
      "Rosalind G. Brewer 57 Group President, Americas and Chief Operating Officer, Starbucks Corporation\n",
      "Jamie S. Gorelick 69 Partner, Wilmer Cutler Pickering Hale and Dorr LLP\n",
      "Daniel P. Huttenlocher 61 Dean, MIT Schwarzman College of Computing\n",
      "----------------------------------------\n",
      "Chunk 2:\n",
      "and Chairman of the Board\n",
      "Pursuant to the requirements of the Securities Exchange Act of 1934, this Report has been signed below by the following persons on behalf of the registrant\n",
      "and in the capacities indicated as of January 30, 2020.\n",
      "Signature Title\n",
      "/s/ Jeffrey P. Bezos\n",
      "Jeffrey P. Bezos Chairman of the Board, President, and Chief Executive Officer (Principal Executive\n",
      "Officer)\n",
      "----------------------------------------\n",
      "Chunk 3:\n",
      "Jeffrey P. Bezos. Mr. Bezos has been Chairman of the Board of Amazon.com since founding it in 1994 and Chief Executive Officer since May 1996.\n",
      "Mr. Bezos served as President of the Company from founding until June 1999 and again from October 2000 to the present.\n",
      "Jeffrey M. Blackburn. Mr. Blackburn has served as Senior Vice President, Business Development, since April 2006.\n",
      "----------------------------------------\n",
      "Chunk 4:\n",
      "(2) The information contained in the Report fairly presents, in all material respects, the financial condition and results of operations of the Company.\n",
      "A signed original of this written statement has been provided to the Company and will be retained by the Company and furnished to the SEC or its staff upon\n",
      "request.\n",
      "/s/ Jeffrey P. Bezos\n",
      "Jeffrey P. Bezos\n",
      "Chairman and Chief Executive Officer\n",
      "----------------------------------------\n",
      "Chunk 5:\n",
      "[Table Data]\n",
      "Jeffrey P. Bezos, , 56, , President, Chief Executive Officer, and Chairman of the Board\n",
      "\n",
      "Andrew R. Jassy, , 52, , CEO Amazon Web Services\n",
      "\n",
      "Shelley L. Reynolds, , 55, , Vice President, Worldwide Controller, and Principal Accounting Officer\n",
      "\n",
      "David A. Zapolsky, , 56, , Senior Vice President, General Counsel, and Secretary\n",
      "----------------------------------------\n",
      "Chunk 6:\n",
      "information (including our Code of Business Conduct and Ethics), and select press releases.\n",
      "Executive Officers and Directors\n",
      "The following tables set forth certain information regarding our Executive Officers and Directors as of January 22, 2020:\n",
      "Information About Our Executive Officers\n",
      "Name Age Position\n",
      "Jeffrey P. Bezos 56 President, Chief Executive Officer, and Chairman of the Board\n",
      "----------------------------------------\n"
     ]
    }
   ],
   "execution_count": 22
  },
  {
   "metadata": {
    "ExecuteTime": {
     "end_time": "2024-12-15T20:05:55.103691Z",
     "start_time": "2024-12-15T20:05:53.303013Z"
    }
   },
   "cell_type": "code",
   "source": [
    "question = \"What was Amazon’s net sales in 2019?\"\n",
    "\n",
    "retrieved_docs = retriever.get_relevant_documents(question)\n",
    "retrieved_chunks = [doc.page_content for doc in retrieved_docs]\n",
    "\n",
    "response = qa_chain.invoke({\"query\": question})\n",
    "answer = response[\"result\"]\n",
    "\n",
    "\n",
    "print(\"Question:\", question)\n",
    "print(\"Answer:\", answer)\n",
    "print(\"\\nRetrieved Chunks:\")\n",
    "for i, chunk in enumerate(retrieved_chunks, start=1):\n",
    "    print(f\"Chunk {i}:\\n{chunk}\\n{'-' * 40}\")"
   ],
   "id": "151c312e3822eecb",
   "outputs": [
    {
     "name": "stderr",
     "output_type": "stream",
     "text": [
      "INFO:httpx:HTTP Request: POST https://api.openai.com/v1/chat/completions \"HTTP/1.1 200 OK\"\n"
     ]
    },
    {
     "name": "stdout",
     "output_type": "stream",
     "text": [
      "Question: What was Amazon’s net sales in 2019?\n",
      "Answer: In 2019, Amazon's net sales totaled $280,522 million. This amount represents the consolidated net sales figure for the year ended December 31, 2019, as disclosed in the financial information provided. \n",
      "\n",
      "To break down the net sales further, the sales were composed of $170,773 million from North America, $74,723 million from International markets, and $35,026 million from AWS (Amazon Web Services). The North America segment saw a 21% year-over-year growth, while the International segment grew by 13%. \n",
      "\n",
      "Overall, Amazon's net sales in 2019 showed a significant increase compared to the previous year, reflecting the company's continued expansion and success across various segments, including e-commerce, cloud services, and digital content subscriptions.\n",
      "\n",
      "Retrieved Chunks:\n",
      "Chunk 1:\n",
      "AWS sales, Amazon Prime membership fees, advertising services, and certain digital content subscriptions. Net sales information is as follows (in millions):\n",
      "Year Ended December 31,\n",
      "2018 2019\n",
      "Net Sales:\n",
      "North America $ 141,366 $ 170,773\n",
      "International 65,866 74,723\n",
      "AWS 25,655 35,026\n",
      "Consolidated $ 232,887 $ 280,522\n",
      "Year-over-year Percentage Growth:\n",
      "North America 33% 21%\n",
      "International 21 13\n",
      "----------------------------------------\n",
      "Chunk 2:\n",
      "Table of Contents\n",
      "AMAZON.COM, INC.\n",
      "CONSOLIDATED STATEMENTS OF OPERATIONS\n",
      "(in millions, except per share data)\n",
      "Year Ended December 31,\n",
      "2017 2018 2019\n",
      "Net product sales $ 118,573 $ 141,915 $ 160,408\n",
      "Net service sales 59,293 90,972 120,114\n",
      "Total net sales 177,866 232,887 280,522\n",
      "Operating expenses:\n",
      "Cost of sales 111,934 139,156 165,536\n",
      "Fulfillment 25,249 34,027 40,232\n",
      "----------------------------------------\n",
      "Chunk 3:\n",
      "restated.\n",
      "of our reports dated January 30, 2020, with respect to the consolidated financial statements of Amazon.com, Inc. and the effectiveness of internal control over\n",
      "financial reporting of Amazon.com, Inc. included in this Annual Report (Form 10-K) of Amazon.com, Inc. for the year ended December 31, 2019.\n",
      "/s/ Ernst & Young LLP\n",
      "Seattle, Washington\n",
      "January 30, 2020\n",
      "----------------------------------------\n",
      "Chunk 4:\n",
      "2019 Acquisition Activity\n",
      "During 2019, we acquired certain companies for an aggregate purchase price of $315 million. The primary reason for these acquisitions, none of which were\n",
      "individually material to our consolidated financial statements, was to acquire technologies and know-how to enable Amazon to serve customers more effectively.\n",
      "----------------------------------------\n",
      "Chunk 5:\n",
      "spending, world events, the rate of growth of the Internet, online commerce, and cloud services, the amount that Amazon.com invests in new business\n",
      "opportunities and the timing of those investments, the mix of products and services sold to customers, the mix of net sales derived from products as compared with\n",
      "----------------------------------------\n",
      "Chunk 6:\n",
      "inventory availability, and increased selection. Changes in foreign currency exchange rates impacted International net sales by $1.3 billion and $(2.4) billion in\n",
      "2018 and 2019.\n",
      "AWS sales increased 37% in 2019, compared to the prior year. The sales growth primarily reflects increased customer usage, partially offset by pricing\n",
      "----------------------------------------\n"
     ]
    }
   ],
   "execution_count": 24
  },
  {
   "metadata": {},
   "cell_type": "code",
   "outputs": [],
   "execution_count": null,
   "source": "",
   "id": "3b36bad8a0b95e11"
  }
 ],
 "metadata": {
  "kernelspec": {
   "display_name": "RAG",
   "language": "python",
   "name": "rag"
  },
  "language_info": {
   "codemirror_mode": {
    "name": "ipython",
    "version": 2
   },
   "file_extension": ".py",
   "mimetype": "text/x-python",
   "name": "python",
   "nbconvert_exporter": "python",
   "pygments_lexer": "ipython2",
   "version": "2.7.6"
  }
 },
 "nbformat": 4,
 "nbformat_minor": 5
}
